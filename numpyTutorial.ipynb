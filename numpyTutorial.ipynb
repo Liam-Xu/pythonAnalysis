{
 "cells": [
  {
   "cell_type": "code",
   "execution_count": 2,
   "metadata": {},
   "outputs": [
    {
     "name": "stdout",
     "output_type": "stream",
     "text": [
      "CPU times: user 7.75 ms, sys: 10 µs, total: 7.76 ms\n",
      "Wall time: 7.76 ms\n",
      "CPU times: user 498 ms, sys: 110 ms, total: 608 ms\n",
      "Wall time: 610 ms\n"
     ]
    }
   ],
   "source": [
    "import numpy  as np\n",
    "tmp_array = np.arange(1000000)\n",
    "tmp_list = list(range(1000000))\n",
    "\n",
    "# testing the numpy performance\n",
    "%time for _ in range(10): tmp_array = tmp_array *2\n",
    "%time for _ in range(10): tmp_list = [x*2 for x in tmp_list]"
   ]
  },
  {
   "cell_type": "code",
   "execution_count": 9,
   "metadata": {},
   "outputs": [
    {
     "data": {
      "text/plain": [
       "dtype('float64')"
      ]
     },
     "execution_count": 9,
     "metadata": {},
     "output_type": "execute_result"
    }
   ],
   "source": [
    "import numpy as np\n",
    "# generate two row three cols array\n",
    "data = np.random.randn(2,3)\n",
    "\n",
    "# # 对应位置乘10\n",
    "# data * 10\n",
    "\n",
    "# # 对应位置相加\n",
    "# data + data\n",
    "\n",
    "# # 数组的结构 dimension\n",
    "# data.shape\n",
    "# # 数组中的数据类型\n",
    "# data.dtype"
   ]
  },
  {
   "cell_type": "code",
   "execution_count": 15,
   "metadata": {},
   "outputs": [
    {
     "data": {
      "text/plain": [
       "array([1., 2., 3.])"
      ]
     },
     "execution_count": 15,
     "metadata": {},
     "output_type": "execute_result"
    }
   ],
   "source": [
    "import numpy as np\n",
    "\n",
    "data1 = [1,2,3,4,5.5]\n",
    "arr1 = np.array(data1)\n",
    "\n",
    "data2 = [[1,2,3,4],[5,6,7,8]]\n",
    "arr2 = np.array(data2)\n",
    "\n",
    "arr3 = np.array([1, 2, 3], dtype=np.float64)\n",
    "\n",
    "\n",
    "# 二维数组，3行六列，都是0\n",
    "np.zeros((3,6))\n",
    "\n",
    "# 三维数组，3层，2行4列\n",
    "np.empty((3,2,4))"
   ]
  },
  {
   "cell_type": "code",
   "execution_count": 16,
   "metadata": {},
   "outputs": [
    {
     "data": {
      "text/plain": [
       "dtype('int64')"
      ]
     },
     "execution_count": 16,
     "metadata": {},
     "output_type": "execute_result"
    }
   ],
   "source": [
    "import numpy as np\n",
    "\n",
    "arr = np.array([1,2,3,4,5])\n",
    "arr.dtype\n",
    "# array数据的类型转换\n",
    "float_arr = arr.astype(np.float64)"
   ]
  },
  {
   "cell_type": "code",
   "execution_count": 20,
   "metadata": {},
   "outputs": [
    {
     "data": {
      "text/plain": [
       "array([[ True, False, False],\n",
       "       [False, False, False]])"
      ]
     },
     "execution_count": 20,
     "metadata": {},
     "output_type": "execute_result"
    }
   ],
   "source": [
    "import numpy as np\n",
    "arr = np.array([[1,2,3],[4,5,6]])\n",
    "arr1 = np.array([[2,2,3],[4,5,6]])\n",
    "\n",
    "# 对应位置想乘\n",
    "arr*arr\n",
    "\n",
    "# 对应位置相减\n",
    "arr - arr\n",
    "\n",
    "# 对应位置相除\n",
    "1 / arr\n",
    "\n",
    "# 对应位置相比较\n",
    "arr1 > arr"
   ]
  },
  {
   "cell_type": "code",
   "execution_count": 25,
   "metadata": {},
   "outputs": [
    {
     "data": {
      "text/plain": [
       "array([4, 4, 4])"
      ]
     },
     "execution_count": 25,
     "metadata": {},
     "output_type": "execute_result"
    }
   ],
   "source": [
    "import numpy as np\n",
    "arr = np.arange(10)\n",
    "\n",
    "# 第六个元素\n",
    "arr[5]\n",
    "# 第6个元素开始，后面三个，不包括第九个\n",
    "arr[5:8]\n",
    "\n",
    "# 基于数组做的slice的子数组，所有操作会反映到原数据上\n",
    "arr_slice = arr[5:8]\n",
    "arr_slice[1] = 12345\n",
    "# 给所有元素赋值\n",
    "arr_slice[:] = 4"
   ]
  },
  {
   "cell_type": "code",
   "execution_count": 36,
   "metadata": {},
   "outputs": [
    {
     "data": {
      "text/plain": [
       "array([7, 8, 9])"
      ]
     },
     "execution_count": 36,
     "metadata": {},
     "output_type": "execute_result"
    }
   ],
   "source": [
    "import numpy as np\n",
    "arr2d = np.array([[1,2,3],[4,5,6],[7,8,9]])\n",
    "# 二维数组的第三行\n",
    "arr2d[2]\n",
    "# 二维数组的第2行.2号位\n",
    "arr2d[1][1]\n",
    "\n",
    "arr3d = np.array([[[1, 2, 3], [4, 5, 6]], [[7, 8, 9], [10, 11, 12]]])\n",
    "# 三维数组的第一层\n",
    "arr3d[0]\n",
    "\n",
    "old_val = arr3d[0].copy()\n",
    "\n",
    "# 第一层所数值 变为 42\n",
    "arr3d[0] = 42\n",
    "\n",
    "arr3d[0] = old_val\n",
    "# 第二层，第1行元素\n",
    "arr3d[1,0]\n"
   ]
  },
  {
   "cell_type": "code",
   "execution_count": 37,
   "metadata": {},
   "outputs": [
    {
     "data": {
      "text/plain": [
       "array([4, 5])"
      ]
     },
     "execution_count": 37,
     "metadata": {},
     "output_type": "execute_result"
    }
   ],
   "source": [
    "import numpy as np\n",
    "arr = np.array([[1,2,3],[4,5,6],[7,8,9]])\n",
    "\n",
    "# 从0号位开始，往后取两行\n",
    "arr2d[:2]\n",
    "# 从0号位开始，往后取两行； 从第二列开始，取完\n",
    "arr2d[:2, 1:]\n",
    "# 第二行； 从0开始，取两列\n",
    "arr2d[1, :2]"
   ]
  },
  {
   "cell_type": "code",
   "execution_count": 40,
   "metadata": {},
   "outputs": [
    {
     "data": {
      "text/plain": [
       "array([ True, False, False,  True, False, False, False])"
      ]
     },
     "execution_count": 40,
     "metadata": {},
     "output_type": "execute_result"
    }
   ],
   "source": [
    "import numpy as np\n",
    "names = np.array(['Bob', 'Joe', 'Will', 'Bob', 'Will', 'Joe', 'Joe'])\n",
    "data = np.random.randn(7, 4)\n",
    "\n",
    "names == 'Bob'\n",
    "# 根据TF 选行数\n",
    "data[names == 'Bob']\n",
    "# 根据TF 选行数； 从第三列开始，全选\n",
    "data[names == 'Bob', 2:]\n",
    "# 非\n",
    "data[~(names == 'Bob')]\n",
    "# 将小于0的数据 变为0\n",
    "data[data < 0] = 0"
   ]
  },
  {
   "cell_type": "code",
   "execution_count": 45,
   "metadata": {},
   "outputs": [
    {
     "data": {
      "text/plain": [
       "array([[0., 0., 0., 0.],\n",
       "       [1., 1., 1., 1.],\n",
       "       [2., 2., 2., 2.],\n",
       "       [3., 3., 3., 3.],\n",
       "       [4., 4., 4., 4.],\n",
       "       [5., 5., 5., 5.],\n",
       "       [6., 6., 6., 6.],\n",
       "       [7., 7., 7., 7.]])"
      ]
     },
     "execution_count": 45,
     "metadata": {},
     "output_type": "execute_result"
    }
   ],
   "source": [
    "import numpy as np\n",
    "arr = np.empty((8, 4))\n",
    "# 赋值\n",
    "for i in range(8):\n",
    "    arr[i] = i\n",
    "\n",
    "# 取对应的行数\n",
    "arr[[4, 3, 0, 6]]\n",
    "# 反向取行数，从-1 开始\n",
    "arr[[-3, -5, -7]]"
   ]
  },
  {
   "cell_type": "code",
   "execution_count": 47,
   "metadata": {},
   "outputs": [
    {
     "data": {
      "text/plain": [
       "array([[125, 140, 155, 170, 185],\n",
       "       [140, 158, 176, 194, 212],\n",
       "       [155, 176, 197, 218, 239],\n",
       "       [170, 194, 218, 242, 266],\n",
       "       [185, 212, 239, 266, 293]])"
      ]
     },
     "execution_count": 47,
     "metadata": {},
     "output_type": "execute_result"
    }
   ],
   "source": [
    "import numpy as np\n",
    "arr = np.arange(15).reshape((3, 5))\n",
    "# 行列反转，3rows 5cols -》 5rows 3cols\n",
    "arr.T\n",
    "\n",
    "# 矩阵点积，第一个数组的列数，必须和第二个数组的行数一样\n",
    "np.dot(arr.T, arr)"
   ]
  },
  {
   "cell_type": "code",
   "execution_count": null,
   "metadata": {},
   "outputs": [],
   "source": []
  }
 ],
 "metadata": {
  "kernelspec": {
   "display_name": "Python 3",
   "language": "python",
   "name": "python3"
  },
  "language_info": {
   "codemirror_mode": {
    "name": "ipython",
    "version": 3
   },
   "file_extension": ".py",
   "mimetype": "text/x-python",
   "name": "python",
   "nbconvert_exporter": "python",
   "pygments_lexer": "ipython3",
   "version": "3.8.3"
  }
 },
 "nbformat": 4,
 "nbformat_minor": 4
}
